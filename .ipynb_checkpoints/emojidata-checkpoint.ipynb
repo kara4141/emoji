{
 "cells": [
  {
   "cell_type": "code",
   "execution_count": null,
   "metadata": {
    "collapsed": false
   },
   "outputs": [],
   "source": [
    "import tweepy #https://github.com/tweepy/tweepy\n",
    "import csv\n",
    "import emoji\n",
    "from emoji import UNICODE_EMOJI\n",
    "\n",
    "#Twitter API credentials\n",
    "consumer_key = \"bfDI2oEarB0zjUZSAapZb97IP\"\n",
    "consumer_secret = \"zRhB4IlyLFubAYAU0hwBPRnZzuRuL38EPJzfd0sRLHbrxtJRQd\"\n",
    "access_key = \"1114621401204502528-g9KugfQTMaTN30n6Mt4U9KzIY3P5wq\"\n",
    "access_secret = \"kCtCxgJVVEhxrVlQHNWVD6dGsIEZGsRByOSQqHLTHzak8\"\n",
    "\n",
    "map = {sum:0}\n",
    "mapsum = {sum:0}\n",
    "\n",
    "def extract_emojis(str, map):\n",
    "    for c in str:\n",
    "        if c in UNICODE_EMOJI:\n",
    "            if c in map:\n",
    "                map[c]+=1\n",
    "                map[sum]+=1\n",
    "            else:\n",
    "                map[c] = 1\n",
    "                map[sum]+=1\n",
    "    return ''.join(c for c in str if c in UNICODE_EMOJI)\n",
    "\n",
    "def get_all_tweets(screen_name):\n",
    "\n",
    "    #Twitter only allows access to a users most recent 3240 tweets with this method\n",
    "\n",
    "    #authorize twitter, initialize tweepy\n",
    "\n",
    "    auth = tweepy.OAuthHandler(consumer_key, consumer_secret)\n",
    "\n",
    "    auth.set_access_token(access_key, access_secret)\n",
    "\n",
    "    api = tweepy.API(auth)\n",
    "\n",
    "    #initialize a list to hold all the tweepy Tweets\n",
    "\n",
    "    alltweets = []\t\n",
    "    \n",
    "    #make initial request for most recent tweets (200 is the maximum allowed count)\n",
    "\n",
    "    new_tweets = api.user_timeline(screen_name = screen_name,count=200)\n",
    "\n",
    "    #save most recent tweets\n",
    "\n",
    "    alltweets.extend(new_tweets)\n",
    "\n",
    "    #save the id of the oldest tweet less one\n",
    "\n",
    "    oldest = alltweets[-1].id - 1\n",
    "    \n",
    "    #keep grabbing tweets until there are no tweets left to grab\n",
    "\n",
    "    while len(new_tweets) > 0:\n",
    "\n",
    "        print (\"getting tweets before %s\" % (oldest))\n",
    "\n",
    "        #all subsiquent requests use the max_id param to prevent duplicates\n",
    "\n",
    "        new_tweets = api.user_timeline(screen_name = screen_name,count=200,max_id=oldest)\n",
    "        \n",
    "        #save most recent tweets\n",
    "\n",
    "        alltweets.extend(new_tweets)\n",
    "\n",
    "        #update the id of the oldest tweet less one\n",
    "\n",
    "        oldest = alltweets[-1].id - 1\n",
    "\n",
    "        print (\"...%s tweets downloaded so far\" % (len(alltweets)))\n",
    "\n",
    "    #transform the tweepy tweets into a 2D array that will populate the csv\t\n",
    "\n",
    "    outtweets = [[tweet.id_str, tweet.created_at, tweet.text, extract_emojis(tweet.text, map)] for tweet in alltweets]\n",
    "    \n",
    "    output = {}\n",
    "    for c in map:\n",
    "        print(c,map[c])\n",
    "        output[c] = map[c]\n",
    "        \n",
    "    with open('%s_tweets111.csv' % screen_name, 'w', encoding='utf-8') as d:   \n",
    "        writer = csv.writer(d)\n",
    "        writer.writerow([\"emoji\",\"count\"])\n",
    "        for k, v in output.items():\n",
    "            writer.writerow([k, str(v)])\n",
    "        \n",
    "    pass\n",
    "\n",
    "    #write the csv\n",
    "    with open('%s_tweets.csv' % screen_name, 'w', encoding='utf-8') as f:\n",
    "\n",
    "        writer = csv.writer(f)\n",
    "\n",
    "        writer.writerow([\"id\",\"created_at\",\"text\", \"emojis\"])\n",
    "\n",
    "        writer.writerow(outtweets[0])\n",
    "    \n",
    "    pass\n",
    "\n",
    "if __name__ == '__main__':\n",
    "    #pass in the username of the account you want to download\n",
    "    \n",
    "    user_names = ['sudaofficial']\n",
    "    \n",
    "    get_all_tweets(\"sudaofficial\")\n",
    "    "
   ]
  },
  {
   "cell_type": "code",
   "execution_count": null,
   "metadata": {
    "collapsed": false
   },
   "outputs": [],
   "source": [
    "def addmap (map):\n",
    "    for c in map:\n",
    "        if c in mapsum:\n",
    "            mapsum[c]+=map[c]\n",
    "            mapsum[sum]+=map[sum]\n",
    "        else:\n",
    "            mapsum[c]=map[sum]\n",
    "addmap(map)    \n",
    "for c in mapsum:\n",
    "    print(c,mapsum[c])\n",
    "        "
   ]
  },
  {
   "cell_type": "code",
   "execution_count": null,
   "metadata": {
    "collapsed": false
   },
   "outputs": [],
   "source": [
    "'ShanChe45462516'"
   ]
  },
  {
   "cell_type": "code",
   "execution_count": null,
   "metadata": {
    "collapsed": true
   },
   "outputs": [],
   "source": []
  },
  {
   "cell_type": "code",
   "execution_count": null,
   "metadata": {
    "collapsed": true
   },
   "outputs": [],
   "source": []
  }
 ],
 "metadata": {
  "anaconda-cloud": {},
  "kernelspec": {
   "display_name": "Python [default]",
   "language": "python",
   "name": "python3"
  },
  "language_info": {
   "codemirror_mode": {
    "name": "ipython",
    "version": 3
   },
   "file_extension": ".py",
   "mimetype": "text/x-python",
   "name": "python",
   "nbconvert_exporter": "python",
   "pygments_lexer": "ipython3",
   "version": "3.5.2"
  }
 },
 "nbformat": 4,
 "nbformat_minor": 1
}
